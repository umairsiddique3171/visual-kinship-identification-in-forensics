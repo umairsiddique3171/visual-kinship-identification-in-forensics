{
 "cells": [
  {
   "cell_type": "code",
   "execution_count": 1,
   "id": "112c79d0",
   "metadata": {},
   "outputs": [],
   "source": [
    "from tensorflow.keras.applications import VGG16\n",
    "from tensorflow.keras.layers import Flatten, Dense\n",
    "from tensorflow.keras.preprocessing.image import ImageDataGenerator\n",
    "from tensorflow.keras.models import Model"
   ]
  },
  {
   "cell_type": "code",
   "execution_count": 9,
   "id": "68d8b333",
   "metadata": {},
   "outputs": [],
   "source": [
    "# Define number of classes\n",
    "train_classes = ['Azli','FordPresident','Jiang','Kapoor','Obama']"
   ]
  },
  {
   "cell_type": "code",
   "execution_count": 2,
   "id": "048e173a",
   "metadata": {},
   "outputs": [],
   "source": [
    "# Define data paths and image size\n",
    "train_data_dir = r'C:\\Users\\US593\\OneDrive\\Desktop\\visual-kinship-identification-in-forensics\\data\\train'\n",
    "validation_data_dir = r'C:\\Users\\US593\\OneDrive\\Desktop\\visual-kinship-identification-in-forensics\\data\\val'\n",
    "img_width, img_height = 224, 224  "
   ]
  },
  {
   "cell_type": "code",
   "execution_count": 3,
   "id": "276be84b",
   "metadata": {},
   "outputs": [],
   "source": [
    "# Load pre-trained VGG16 model (without top layers)\n",
    "base_model = VGG16(weights='imagenet', include_top=False, input_shape=(img_width, img_height, 3))"
   ]
  },
  {
   "cell_type": "code",
   "execution_count": 4,
   "id": "2d444d1b",
   "metadata": {},
   "outputs": [],
   "source": [
    "# Freeze convolutional base layers (to prevent retraining these layers)\n",
    "for layer in base_model.layers:\n",
    "    layer.trainable = False"
   ]
  },
  {
   "cell_type": "code",
   "execution_count": 10,
   "id": "dc3b4147",
   "metadata": {},
   "outputs": [],
   "source": [
    "# Add new classification layers\n",
    "x = base_model.output\n",
    "x = Flatten()(x)\n",
    "predictions = Dense(len(train_classes), activation='softmax')(x)  # Adjust output size for your classes"
   ]
  },
  {
   "cell_type": "code",
   "execution_count": 11,
   "id": "59a8967c",
   "metadata": {},
   "outputs": [],
   "source": [
    "# Create final model\n",
    "model = Model(inputs=base_model.input, outputs=predictions)"
   ]
  },
  {
   "cell_type": "code",
   "execution_count": 12,
   "id": "fc57f1bb",
   "metadata": {},
   "outputs": [],
   "source": [
    "# Data augmentation for training data\n",
    "train_datagen = ImageDataGenerator(rescale=1./255, shear_range=0.2, zoom_range=0.2, horizontal_flip=True)"
   ]
  },
  {
   "cell_type": "code",
   "execution_count": 13,
   "id": "b94eeac8",
   "metadata": {},
   "outputs": [
    {
     "name": "stdout",
     "output_type": "stream",
     "text": [
      "Found 988 images belonging to 5 classes.\n",
      "Found 151 images belonging to 5 classes.\n"
     ]
    }
   ],
   "source": [
    "# Load training and validation data\n",
    "train_generator = train_datagen.flow_from_directory(\n",
    "    train_data_dir,\n",
    "    target_size=(img_width, img_height),\n",
    "    batch_size=32,  # Adjust batch size as needed\n",
    "    class_mode='categorical'\n",
    ")\n",
    "validation_generator = ImageDataGenerator(rescale=1./255)\n",
    "validation_generator = validation_generator.flow_from_directory(\n",
    "    validation_data_dir,\n",
    "    target_size=(img_width, img_height),\n",
    "    batch_size=32,\n",
    "    class_mode='categorical'\n",
    ")"
   ]
  },
  {
   "cell_type": "code",
   "execution_count": 14,
   "id": "c4aede3a",
   "metadata": {},
   "outputs": [],
   "source": [
    "# Compile the model\n",
    "model.compile(loss='categorical_crossentropy', optimizer='adam', metrics=['accuracy'])"
   ]
  },
  {
   "cell_type": "code",
   "execution_count": 15,
   "id": "f2557890",
   "metadata": {},
   "outputs": [
    {
     "name": "stdout",
     "output_type": "stream",
     "text": [
      "Epoch 1/10\n",
      "31/31 [==============================] - 41s 1s/step - loss: 0.8143 - accuracy: 0.8057 - val_loss: 0.5650 - val_accuracy: 0.7947\n",
      "Epoch 2/10\n",
      "31/31 [==============================] - 17s 549ms/step - loss: 0.2151 - accuracy: 0.9231 - val_loss: 0.2811 - val_accuracy: 0.9007\n",
      "Epoch 3/10\n",
      "31/31 [==============================] - 17s 553ms/step - loss: 0.1534 - accuracy: 0.9453 - val_loss: 0.3249 - val_accuracy: 0.8675\n",
      "Epoch 4/10\n",
      "31/31 [==============================] - 17s 557ms/step - loss: 0.1042 - accuracy: 0.9676 - val_loss: 0.3161 - val_accuracy: 0.8543\n",
      "Epoch 5/10\n",
      "31/31 [==============================] - 17s 553ms/step - loss: 0.0917 - accuracy: 0.9737 - val_loss: 0.1973 - val_accuracy: 0.9470\n",
      "Epoch 6/10\n",
      "31/31 [==============================] - 17s 546ms/step - loss: 0.0573 - accuracy: 0.9899 - val_loss: 0.2377 - val_accuracy: 0.9007\n",
      "Epoch 7/10\n",
      "31/31 [==============================] - 17s 548ms/step - loss: 0.0548 - accuracy: 0.9858 - val_loss: 0.1652 - val_accuracy: 0.9404\n",
      "Epoch 8/10\n",
      "31/31 [==============================] - 17s 547ms/step - loss: 0.0384 - accuracy: 0.9939 - val_loss: 0.1675 - val_accuracy: 0.9272\n",
      "Epoch 9/10\n",
      "31/31 [==============================] - 17s 552ms/step - loss: 0.0388 - accuracy: 0.9889 - val_loss: 0.1885 - val_accuracy: 0.9404\n",
      "Epoch 10/10\n",
      "31/31 [==============================] - 17s 557ms/step - loss: 0.0408 - accuracy: 0.9909 - val_loss: 0.1991 - val_accuracy: 0.9338\n"
     ]
    },
    {
     "data": {
      "text/plain": [
       "<keras.callbacks.History at 0x1a034691400>"
      ]
     },
     "execution_count": 15,
     "metadata": {},
     "output_type": "execute_result"
    }
   ],
   "source": [
    "# Train the model\n",
    "model.fit(\n",
    "    train_generator,\n",
    "    epochs=10,  # Adjust number of epochs\n",
    "    validation_data=validation_generator\n",
    ")"
   ]
  },
  {
   "cell_type": "code",
   "execution_count": 18,
   "id": "b28c6c18",
   "metadata": {},
   "outputs": [
    {
     "name": "stdout",
     "output_type": "stream",
     "text": [
      "5/5 [==============================] - 2s 229ms/step - loss: 0.1991 - accuracy: 0.9338\n"
     ]
    },
    {
     "data": {
      "text/plain": [
       "[0.19911488890647888, 0.9337748289108276]"
      ]
     },
     "execution_count": 18,
     "metadata": {},
     "output_type": "execute_result"
    }
   ],
   "source": [
    "model.evaluate(validation_generator)"
   ]
  },
  {
   "cell_type": "code",
   "execution_count": 19,
   "id": "07a6445e",
   "metadata": {},
   "outputs": [],
   "source": [
    "model.save(\"model.h5\")"
   ]
  },
  {
   "cell_type": "code",
   "execution_count": null,
   "id": "82d904a3",
   "metadata": {},
   "outputs": [],
   "source": []
  },
  {
   "cell_type": "code",
   "execution_count": null,
   "id": "659ace75",
   "metadata": {},
   "outputs": [],
   "source": []
  }
 ],
 "metadata": {
  "kernelspec": {
   "display_name": "python 3.9 (tf)",
   "language": "python",
   "name": "tensorflow"
  },
  "language_info": {
   "codemirror_mode": {
    "name": "ipython",
    "version": 3
   },
   "file_extension": ".py",
   "mimetype": "text/x-python",
   "name": "python",
   "nbconvert_exporter": "python",
   "pygments_lexer": "ipython3",
   "version": "3.9.18"
  }
 },
 "nbformat": 4,
 "nbformat_minor": 5
}
